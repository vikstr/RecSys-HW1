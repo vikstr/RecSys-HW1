{
 "cells": [
  {
   "cell_type": "code",
   "execution_count": 1,
   "metadata": {
    "collapsed": true
   },
   "outputs": [],
   "source": [
    "import pandas as pd\n",
    "import numpy as np\n",
    "import scipy.stats as ss\n",
    "import json\n",
    "from collections import namedtuple, defaultdict\n",
    "from pyspark.sql.functions import *\n",
    "from pyspark.sql import SparkSession, DataFrame, Row, Column, Window\n",
    "from pyspark.sql.types import *\n",
    "import matplotlib.pyplot as plt\n",
    "from pyspark import SparkFiles\n",
    "from pyspark.ml.evaluation import RegressionEvaluator\n",
    "from pyspark.ml.recommendation import ALS\n",
    "\n",
    "%matplotlib inline"
   ]
  },
  {
   "cell_type": "code",
   "execution_count": 2,
   "metadata": {},
   "outputs": [],
   "source": [
    "spark = SparkSession.builder.appName(\"vika\").getOrCreate()"
   ]
  },
  {
   "cell_type": "code",
   "execution_count": 3,
   "metadata": {},
   "outputs": [],
   "source": [
    "data = spark.read.json(\"/user/mob2021083/data\")"
   ]
  },
  {
   "cell_type": "code",
   "execution_count": 4,
   "metadata": {},
   "outputs": [
    {
     "name": "stdout",
     "output_type": "stream",
     "text": [
      "root\n",
      " |-- experiments: struct (nullable = true)\n",
      " |    |-- AA: string (nullable = true)\n",
      " |    |-- PERSONALIZED: string (nullable = true)\n",
      " |    |-- RECOMMENDERS: string (nullable = true)\n",
      " |-- latency: double (nullable = true)\n",
      " |-- message: string (nullable = true)\n",
      " |-- recommendation: long (nullable = true)\n",
      " |-- time: double (nullable = true)\n",
      " |-- timestamp: long (nullable = true)\n",
      " |-- track: long (nullable = true)\n",
      " |-- user: long (nullable = true)\n",
      "\n"
     ]
    }
   ],
   "source": [
    "data.printSchema()"
   ]
  },
  {
   "cell_type": "code",
   "execution_count": 5,
   "metadata": {},
   "outputs": [
    {
     "data": {
      "text/plain": [
       "9243132"
      ]
     },
     "execution_count": 5,
     "metadata": {},
     "output_type": "execute_result"
    }
   ],
   "source": [
    "data.count()"
   ]
  },
  {
   "cell_type": "code",
   "execution_count": 6,
   "metadata": {},
   "outputs": [
    {
     "name": "stdout",
     "output_type": "stream",
     "text": [
      "+-----------+--------------------+-------+--------------+----+-------------+-----+----+\n",
      "|experiments|             latency|message|recommendation|time|    timestamp|track|user|\n",
      "+-----------+--------------------+-------+--------------+----+-------------+-----+----+\n",
      "|   [C,, T3]|2.570152282714844E-4|   last|          null| 0.0|1636224100701|36176|6109|\n",
      "|   [C,, T3]|6.573200225830078E-4|   next|          1004| 1.0|1636224100741| 2225|6239|\n",
      "|   [C,, T3]|5.886554718017578E-4|   next|          7417| 1.0|1636224100753| 1004|6239|\n",
      "|   [C,, T3]|7.193088531494141E-4|   next|          2332| 0.0|1636224100765| 7417|6239|\n",
      "|   [C,, T3]|5.955696105957031E-4|   next|         36514|0.25|1636224100777| 2332|6239|\n",
      "|   [C,, T3]|5.311965942382812E-4|   next|            19| 0.0|1636224100788|36514|6239|\n",
      "|   [C,, T3]|8.442401885986328E-4|   next|         23754|0.01|1636224100800|   19|6239|\n",
      "|   [C,, T3]|2.171993255615234...|   last|          null| 0.0|1636224100811|23754|6239|\n",
      "|   [C,, T2]|0.001013755798339...|   next|         32695| 1.0|1636224100849|12737|8273|\n",
      "|   [C,, T2]|0.001140356063842...|   next|         13342|0.14|1636224100863|32695|8273|\n",
      "|   [C,, T2]|0.001119852066040039|   next|         39793| 0.0|1636224100875|13342|8273|\n",
      "|   [C,, T2]|6.811618804931641E-4|   next|         35581|0.01|1636224100889|39793|8273|\n",
      "|   [C,, T2]|7.774829864501953E-4|   next|          1705|0.02|1636224100900|35581|8273|\n",
      "|   [C,, T2]|2.110004425048828E-4|   last|          null|0.01|1636224100911| 1705|8273|\n",
      "|  [T1,, T1]|9.710788726806641E-4|   next|         34745| 1.0|1636224100951| 4632|9960|\n",
      "|  [T1,, T1]|0.001039981842041...|   next|         38598|0.02|1636224100964|34745|9960|\n",
      "|  [T1,, T1]|0.001212596893310...|   next|         43568|0.01|1636224100979|38598|9960|\n",
      "|  [T1,, T1]|6.375312805175781E-4|   next|         41547| 0.0|1636224100991|43568|9960|\n",
      "|  [T1,, T1]|7.762908935546875E-4|   next|         36485| 0.0|1636224101004|41547|9960|\n",
      "|  [T1,, T1]|2.093315124511718...|   last|          null|0.01|1636224101015|36485|9960|\n",
      "+-----------+--------------------+-------+--------------+----+-------------+-----+----+\n",
      "only showing top 20 rows\n",
      "\n"
     ]
    }
   ],
   "source": [
    "data.show()"
   ]
  },
  {
   "cell_type": "code",
   "execution_count": 7,
   "metadata": {
    "collapsed": true
   },
   "outputs": [],
   "source": [
    "data = data.orderBy('timestamp')"
   ]
  },
  {
   "cell_type": "code",
   "execution_count": 8,
   "metadata": {},
   "outputs": [
    {
     "name": "stdout",
     "output_type": "stream",
     "text": [
      "+-------+--------------+-------+\n",
      "|message|recommendation|  count|\n",
      "+-------+--------------+-------+\n",
      "|   last|          null|1300000|\n",
      "|   next|         42118|    345|\n",
      "|   next|         40373|    303|\n",
      "|   next|         16504|    293|\n",
      "|   next|         25060|    290|\n",
      "|   next|         44782|    288|\n",
      "|   next|         14445|    286|\n",
      "|   next|         17556|    282|\n",
      "|   next|         34342|    281|\n",
      "|   next|         12763|    280|\n",
      "+-------+--------------+-------+\n",
      "only showing top 10 rows\n",
      "\n"
     ]
    }
   ],
   "source": [
    "data.groupby('message', 'recommendation').agg(count('user').alias('count')).orderBy(desc('count')).show(10)"
   ]
  },
  {
   "cell_type": "code",
   "execution_count": 9,
   "metadata": {
    "collapsed": true
   },
   "outputs": [],
   "source": [
    "train, test = data.randomSplit([0.9, 0.1], seed=42)"
   ]
  },
  {
   "cell_type": "code",
   "execution_count": 10,
   "metadata": {
    "collapsed": true
   },
   "outputs": [],
   "source": [
    "als = ALS(maxIter=20, regParam=0.01, userCol=\"user\", itemCol=\"track\", ratingCol=\"time\", nonnegative = True, implicitPrefs = False, coldStartStrategy=\"drop\")"
   ]
  },
  {
   "cell_type": "code",
   "execution_count": 11,
   "metadata": {},
   "outputs": [
    {
     "name": "stdout",
     "output_type": "stream",
     "text": [
      "RMSE: 0.29623392687202726\n"
     ]
    }
   ],
   "source": [
    "model = als.fit(train)\n",
    "\n",
    "predictions = model.transform(test)\n",
    "evaluator = RegressionEvaluator(\n",
    "    metricName=\"rmse\",\n",
    "    labelCol=\"time\",\n",
    "    predictionCol=\"prediction\",\n",
    ")\n",
    "rmse = evaluator.evaluate(predictions)\n",
    "\n",
    "print(\"RMSE: {}\".format(rmse))"
   ]
  },
  {
   "cell_type": "markdown",
   "metadata": {},
   "source": [
    "Попробуем дедублицировать данные и отсеить из выборки те рекомендации, которые не понравились пользователям."
   ]
  },
  {
   "cell_type": "code",
   "execution_count": 12,
   "metadata": {
    "collapsed": true
   },
   "outputs": [],
   "source": [
    "data_deduplicated = data.filter(col(\"time\") > 0.5).select(\"*\").dropDuplicates()"
   ]
  },
  {
   "cell_type": "code",
   "execution_count": 13,
   "metadata": {
    "collapsed": true
   },
   "outputs": [],
   "source": [
    "train_deduplicated, test_deduplicated = data_deduplicated.randomSplit([0.9, 0.1], seed=42)"
   ]
  },
  {
   "cell_type": "code",
   "execution_count": 14,
   "metadata": {},
   "outputs": [
    {
     "name": "stdout",
     "output_type": "stream",
     "text": [
      "RMSE: 0.08965529120528133\n"
     ]
    }
   ],
   "source": [
    "model_after_deduplicate = als.fit(train_deduplicated)\n",
    "\n",
    "predictions_deduplicate = model_after_deduplicate.transform(test_deduplicated)\n",
    "evaluator_deduplicate = RegressionEvaluator(\n",
    "    metricName=\"rmse\",\n",
    "    labelCol=\"time\",\n",
    "    predictionCol=\"prediction\",\n",
    ")\n",
    "rmse_deduplicate = evaluator_deduplicate.evaluate(predictions_deduplicate)\n",
    "\n",
    "print(\"RMSE: {}\".format(rmse_deduplicate))"
   ]
  },
  {
   "cell_type": "markdown",
   "metadata": {
    "collapsed": true
   },
   "source": [
    "Сохраним обе модели "
   ]
  },
  {
   "cell_type": "code",
   "execution_count": 16,
   "metadata": {},
   "outputs": [],
   "source": [
    "model_after_deduplicate.save('model_after_deduplicate_v2')\n",
    "model.save('model_before_deduplicate_v2')"
   ]
  },
  {
   "cell_type": "markdown",
   "metadata": {},
   "source": [
    "Посмотрим, сколько в среднем треков слушали пользователи"
   ]
  },
  {
   "cell_type": "code",
   "execution_count": 17,
   "metadata": {},
   "outputs": [
    {
     "name": "stdout",
     "output_type": "stream",
     "text": [
      "+----------+\n",
      "|avg(count)|\n",
      "+----------+\n",
      "|  924.3132|\n",
      "+----------+\n",
      "\n"
     ]
    }
   ],
   "source": [
    "data.groupby('user').agg(count('track').alias('count')).agg(avg('count')).show()"
   ]
  },
  {
   "cell_type": "code",
   "execution_count": 18,
   "metadata": {},
   "outputs": [
    {
     "name": "stdout",
     "output_type": "stream",
     "text": [
      "+----------+\n",
      "|avg(count)|\n",
      "+----------+\n",
      "| 184.86264|\n",
      "+----------+\n",
      "\n"
     ]
    }
   ],
   "source": [
    "data.groupby('track').agg(count('user').alias('count')).agg(avg('count')).show()"
   ]
  },
  {
   "cell_type": "code",
   "execution_count": 20,
   "metadata": {
    "collapsed": true
   },
   "outputs": [],
   "source": [
    "# Generate top 100 track recommendations for each user\n",
    "userRecs = model.recommendForAllUsers(100)\n",
    "# Generate top 100 user recommendations for each track\n",
    "trackRecs = model.recommendForAllItems(100)"
   ]
  },
  {
   "cell_type": "code",
   "execution_count": 21,
   "metadata": {},
   "outputs": [
    {
     "name": "stdout",
     "output_type": "stream",
     "text": [
      "+----------+\n",
      "|avg(count)|\n",
      "+----------+\n",
      "|  257.0071|\n",
      "+----------+\n",
      "\n"
     ]
    }
   ],
   "source": [
    "data_deduplicated.groupby('user').agg(count('track').alias('count')).agg(avg('count')).show()"
   ]
  },
  {
   "cell_type": "code",
   "execution_count": 22,
   "metadata": {},
   "outputs": [
    {
     "name": "stdout",
     "output_type": "stream",
     "text": [
      "+----------+\n",
      "|avg(count)|\n",
      "+----------+\n",
      "|  51.40142|\n",
      "+----------+\n",
      "\n"
     ]
    }
   ],
   "source": [
    "data_deduplicated.groupby('track').agg(count('user').alias('count')).agg(avg('count')).show()"
   ]
  },
  {
   "cell_type": "code",
   "execution_count": 27,
   "metadata": {
    "collapsed": true
   },
   "outputs": [],
   "source": [
    "# Generate top 25 track recommendations for each user\n",
    "userRecs_after_deduplicate = model_after_deduplicate.recommendForAllUsers(25)\n",
    "# Generate top 25 user recommendations for each track\n",
    "trackRecs_after_deduplicate = model_after_deduplicate.recommendForAllItems(25)"
   ]
  },
  {
   "cell_type": "code",
   "execution_count": 24,
   "metadata": {},
   "outputs": [
    {
     "name": "stdout",
     "output_type": "stream",
     "text": [
      "root\n",
      " |-- user: integer (nullable = false)\n",
      " |-- recommendations: array (nullable = true)\n",
      " |    |-- element: struct (containsNull = true)\n",
      " |    |    |-- track: integer (nullable = true)\n",
      " |    |    |-- rating: float (nullable = true)\n",
      "\n"
     ]
    }
   ],
   "source": [
    "userRecs.printSchema()"
   ]
  },
  {
   "cell_type": "code",
   "execution_count": 25,
   "metadata": {
    "collapsed": true
   },
   "outputs": [],
   "source": [
    "users_all = {}\n",
    "for rec in userRecs.collect():\n",
    "    if (rec.user not in users_all.keys()):\n",
    "        users_all[rec.user] = []\n",
    "    for recommendation in rec.recommendations:\n",
    "        users_all[rec.user].append(recommendation.track)"
   ]
  },
  {
   "cell_type": "code",
   "execution_count": 28,
   "metadata": {},
   "outputs": [],
   "source": [
    "users_deduplicate = {}\n",
    "for rec in userRecs_after_deduplicate.collect():\n",
    "    if (rec.user not in users_deduplicate.keys()):\n",
    "        users_deduplicate[rec.user] = []\n",
    "    for recommendation in rec.recommendations:\n",
    "        users_deduplicate[rec.user].append(recommendation.track)"
   ]
  },
  {
   "cell_type": "code",
   "execution_count": 29,
   "metadata": {
    "collapsed": true
   },
   "outputs": [],
   "source": [
    "with open('/home/mobod2021/mob2021083/users_recommendations.json', 'w') as f:\n",
    "    json.dump(users_all, fp = f)"
   ]
  },
  {
   "cell_type": "code",
   "execution_count": 30,
   "metadata": {
    "collapsed": true
   },
   "outputs": [],
   "source": [
    "with open('/home/mobod2021/mob2021083/users_deduplicate_recommendations.json', 'w') as f:\n",
    "    json.dump(users_deduplicate, fp = f)"
   ]
  },
  {
   "cell_type": "code",
   "execution_count": null,
   "metadata": {
    "collapsed": true
   },
   "outputs": [],
   "source": []
  }
 ],
 "metadata": {
  "kernelspec": {
   "display_name": "Python 3",
   "language": "python",
   "name": "python3"
  },
  "language_info": {
   "codemirror_mode": {
    "name": "ipython",
    "version": 3
   },
   "file_extension": ".py",
   "mimetype": "text/x-python",
   "name": "python",
   "nbconvert_exporter": "python",
   "pygments_lexer": "ipython3",
   "version": "3.7.0"
  }
 },
 "nbformat": 4,
 "nbformat_minor": 2
}
